{
 "cells": [
  {
   "cell_type": "markdown",
   "metadata": {},
   "source": [
    "Importation des librairies utilisées et des variables utiles"
   ]
  },
  {
   "cell_type": "code",
   "execution_count": 1,
   "metadata": {
    "collapsed": true
   },
   "outputs": [],
   "source": [
    "import unicodedata,string\n",
    "import numpy as np\n",
    "import pandas as pd\n",
    "from collections import Counter\n",
    "import os\n",
    "\n",
    "#liste des 27 caractères \"autorisés\n",
    "letters = []\n",
    "for x in string.ascii_lowercase+\" \":\n",
    "    letters.append(x)"
   ]
  },
  {
   "cell_type": "markdown",
   "metadata": {},
   "source": [
    "## Etape 1\n",
    "\n",
    "Traite les donnés brut .txt pour ne garder que 27 caractère (avec ou sans espaces)"
   ]
  },
  {
   "cell_type": "code",
   "execution_count": 2,
   "metadata": {
    "collapsed": true
   },
   "outputs": [],
   "source": [
    "#Ouvre un dossier (foldername) et concatène tous les fichiers .txt en un ficher .txt au nom de l'auteur\n",
    "def concatennation(foldername, auteur):\n",
    "    file_conca = open('textes/'+auteur+'_conca'+'.txt','a')\n",
    "    for fichier in os.listdir(foldername):\n",
    "        if fichier[-4:] == '.txt':\n",
    "            with open(foldername + fichier,'r') as f:\n",
    "                file_conca.write(f.read())\n",
    "    file_conca.close()\n",
    "\n",
    "#simplification d'un fichier .txt, enlève la ponctuation, les majuscules, les chiffres\n",
    "#avec_espace permet de décider si on supprime aussi les espaces\n",
    "def simplification(filename, avec_espaces):\n",
    "    file1 = open(filename, 'r')\n",
    "    data = file1.read()\n",
    "    file1.close()\n",
    "    \n",
    "    #normalisation de l'encodage\n",
    "    data = unicodedata.normalize('NFKD', data)\n",
    "    \n",
    "    #on supprime les majuscules\n",
    "    data = data.lower()\n",
    "    \n",
    "    #remplace la ponctuation et les chiffres par des espaces\n",
    "    dataBis = \"\"\n",
    "    for x in data:\n",
    "        if x in (string.punctuation+string.digits): \n",
    "            x = \" \"\n",
    "        dataBis = dataBis + x\n",
    "    \n",
    "    #supprime les caractères spéciaux\n",
    "    data = ''.join(x for x in dataBis if x in letters)\n",
    "    \n",
    "    #supprimme les espaces en trop et tous les espaces si avec_espaces = false\n",
    "    if(avec_espaces):\n",
    "        data = ' '.join(data.split())\n",
    "        file2 = open(filename[:-4]+'_simplifie_avec_espaces.txt','w')\n",
    "        file2.write(data)\n",
    "    \n",
    "    else:    \n",
    "        data = ''.join(data.split())\n",
    "        file2 = open(filename[:-4]+'_simplifie_sans_espaces.txt','w')\n",
    "        file2.write(data)\n",
    "    \n",
    "    file2.close()\n",
    "\n",
    "#return un string contenant l'ensemble d'un fichier .txt simplifié\n",
    "#avec_espace permet de décider si on supprime aussi les espaces\n",
    "def getData(filename, avec_espaces):\n",
    "    simplification(filename, avec_espaces)\n",
    "    if(avec_espaces):\n",
    "        file = open(filename[:-4]+'_simplifie_avec_espaces.txt','r')\n",
    "    else:\n",
    "        file = open(filename[:-4]+'_simplifie_sans_espaces.txt','r')\n",
    "    data = file.read()\n",
    "    file.close()\n",
    "    return data"
   ]
  },
  {
   "cell_type": "markdown",
   "metadata": {},
   "source": [
    "## Etape 2"
   ]
  },
  {
   "cell_type": "code",
   "execution_count": 3,
   "metadata": {
    "collapsed": true,
    "scrolled": true
   },
   "outputs": [],
   "source": [
    "#on compte le nombre d'occurence de chacun des N_grams, résultat sous forme de dictionnaire\n",
    "def N_grams(n, filename, avec_espaces):\n",
    "    data=getData(filename, avec_espaces)\n",
    "    \n",
    "    #on met dans une liste l'ensemble des N_grams du fichier\n",
    "    N_grams=[]\n",
    "    for x in range(len(data)-n+1):\n",
    "       N_grams.append(data[x:x+n])\n",
    "    \n",
    "    len(N_grams)\n",
    "    ctn = Counter(N_grams)\n",
    "    ctn['data_length'] = len(data)\n",
    "    return ctn\n",
    "\n",
    "#return la fréquence des des N_grams de taille n\n",
    "def frequence_N_grams(n, filename, avec_espaces):\n",
    "    ctn = N_grams(n,filename, avec_espaces)\n",
    "    length = ctn.get('data_length')\n",
    "    del ctn['data_length']\n",
    "    \n",
    "    if(avec_espaces):\n",
    "        if(n==1): letters_n = letters\n",
    "        if(n==2): letters_n = [x + y for x in letters for y in letters]\n",
    "        if(n==3): letters_n = [x + y + z for x in letters for y in letters for z in letters]\n",
    "        if(n==4): letters_n = [x + y + z + t for x in letters for y in letters for z in letters for t in letters]\n",
    "        frequence = pd.Series(np.zeros(pow(27,n)) , index=letters_n)\n",
    "        \n",
    "    else:\n",
    "        if(n==1): letters_n = letters[:26]\n",
    "        if(n==2): letters_n = [x + y for x in letters[:26] for y in letters[:26]]\n",
    "        if(n==3): letters_n = [x + y + z for x in letters[:26] for y in letters[:26] for z in letters[:26]]\n",
    "        if(n==4): letters_n = [x + y + z + t for x in letters[:26] for y in letters[:26] for z in letters[:26] for t in letters[:26]]\n",
    "        frequence = pd.Series(np.zeros(pow(26,n)) , index=letters_n)\n",
    "    \n",
    "    for key in ctn.keys():\n",
    "        frequence.loc [key] = ctn.get(key)\n",
    "        \n",
    "    return frequence/length\n",
    "\n",
    "#return la matrice de transition de mémoire n\n",
    "def matrice_transition_memoire_n(n,filename):\n",
    "    ctn = N_grams(n+1,filename, True)\n",
    "    length = ctn.get('data_length')\n",
    "    del ctn['data_length']\n",
    "    \n",
    "    #on calcul\n",
    "    if(n==0): letters_n = ['frequence']\n",
    "    if(n==1): letters_n = letters\n",
    "    if(n==2): letters_n = [x + y for x in letters for y in letters]\n",
    "    if(n==3): letters_n = [x + y + z for x in letters for y in letters for z in letters]\n",
    "    if(n==4): letters_n = [x + y + z + t for x in letters for y in letters for z in letters for t in letters]\n",
    "    \n",
    "    result = pd.DataFrame(np.zeros((pow(27,n),27)), index=letters_n, columns=letters)\n",
    "    if(n==0):\n",
    "        for key in ctn.keys():\n",
    "            result.loc['frequence',key[-1]] = ctn.get(key)\n",
    "        \n",
    "    \n",
    "    else:\n",
    "        for key in ctn.keys():\n",
    "            result.loc[key[:-1],key[-1]] = ctn.get(key)\n",
    "        \n",
    "    return result/length\n",
    "\n",
    "\n",
    "#return un texte généré aléatoirement à partir de la matrice de transition\n",
    "#le debut du texte est décidé par l'utilisateur \n",
    "def generation_text_mem_N(longueur_text, matrice_transition, debut_text):\n",
    "    text = debut_text\n",
    "    \n",
    "    #on récupère la mémoire de la matrice de transition\n",
    "    memoire = int(np.log(matrice_transition.shape[0])/np.log(27))\n",
    "    \n",
    "    #on traite le cas sans mémoire à part\n",
    "    if(memoire==0):\n",
    "        for i in range (longueur_text):\n",
    "            rand = np.random.uniform(0,1)\n",
    "            sum=0\n",
    "            for l in letters:\n",
    "                if(sum <= rand < matrice_transition.loc['frequence',l] + sum):\n",
    "                    text = text +l\n",
    "                    break\n",
    "                sum = matrice_transition.loc['frequence',l] + sum\n",
    "                \n",
    "    else:\n",
    "        sup = np.sum(matrice_transition,1)\n",
    "        for i in range (longueur_text):\n",
    "            rand = np.random.uniform(0,sup.loc[text[-memoire:]])\n",
    "            sum=0\n",
    "            for l in letters:\n",
    "                if(sum <= rand < matrice_transition.loc[text[-memoire:],l] + sum):\n",
    "                    text = text +l\n",
    "                    break\n",
    "                sum = matrice_transition.loc[text[-memoire:],l] + sum\n",
    "    return text\n",
    "\n"
   ]
  },
  {
   "cell_type": "code",
   "execution_count": 4,
   "metadata": {},
   "outputs": [
    {
     "name": "stdout",
     "output_type": "stream",
     "text": [
      "CPU times: user 26.2 s, sys: 485 ms, total: 26.7 s\n",
      "Wall time: 26.7 s\n"
     ]
    }
   ],
   "source": [
    "%%time\n",
    "m0 = matrice_transition_memoire_n(0,'textes/james_conca.txt')\n",
    "m1 = matrice_transition_memoire_n(1,'textes/james_conca.txt')\n",
    "m2 = matrice_transition_memoire_n(2,'textes/james_conca.txt')\n",
    "m3 = matrice_transition_memoire_n(3,'textes/james_conca.txt')\n",
    "m4 = matrice_transition_memoire_n(4,'textes/james_conca.txt')\n"
   ]
  },
  {
   "cell_type": "code",
   "execution_count": 5,
   "metadata": {},
   "outputs": [
    {
     "name": "stdout",
     "output_type": "stream",
     "text": [
      "CPU times: user 363 ms, sys: 4.42 ms, total: 367 ms\n",
      "Wall time: 359 ms\n"
     ]
    }
   ],
   "source": [
    "%%time\n",
    "t0 = generation_text_mem_N(300, m0, '')\n",
    "t1 = generation_text_mem_N(300, m1, 't')\n",
    "t2 = generation_text_mem_N(300, m2, 'th')\n",
    "t3 = generation_text_mem_N(300, m3, 'the')\n",
    "t4 = generation_text_mem_N(300, m4, 'the ')"
   ]
  },
  {
   "cell_type": "code",
   "execution_count": 16,
   "metadata": {},
   "outputs": [
    {
     "name": "stdout",
     "output_type": "stream",
     "text": [
      "Texte mémoire 0 : \n",
      " \n",
      " iae n qhiop hhahtuneie eamtntn   m sdrm ntw enan n ns iohsngrveufrmawgp lwwtteaatneeskt hhpdqtes st hfotisa hn  oatchnhfropd cthpdat hineswoormr ris a    surweert aeik etteenhhkoeeeae mthabigaogtit a haiero  leitabdk  oeenebh hdoy yenoaiti   oeh o  ei rathpraotmohhao hcfeei m ldtkntb he ttghnktethp\n",
      "\n",
      "Texte mémoire 1 : \n",
      " \n",
      "ttein con bl terir w f wacheasor huthero gs aly hityouinidens astombed e e hed hacofincon g htacof rthe bur the ysethashand chelope sttthy italinated e ny astebth the on mssinisinoff to dre gesity in to dikne o ave cho tou d athe triotheounsy he cerit thay as h f ik imect on sshave hematicham h fe cr\n",
      "\n",
      "Texte mémoire 2 : \n",
      " \n",
      "then bould whiseetrater ing th anyth of thavermaking fack mucheyesel yestnion to hared to he i senythe the der el red as wings reforest but whate red sm on ded tow wassint it she sing emer ther haten he actle th so kne of toome but for itakepto why the solinat as quithus stere oplace witheplesto to co\n",
      "\n",
      "Texte mémoire 3 : \n",
      " \n",
      "the wondow sharly sher asreate sresense she her eyes year ching wanting eyes the callowestudenly intelyto reshing assured evered their wither sourseleast their perself it companingham oh ment in had not at sence of felt only went questill know that thepourself then of concreads ind sharloth the mr vow \n",
      "\n",
      "Texte mémoire 4 : \n",
      " \n",
      "the girls it s motions but in why it was miledto sitting woman bindingly in reasure of which more taking off almost rankly avoid if you seeit for these as she with his it was could charlotte sociate the never far their friendorsessence the felt boreyou ve beautifull fun to that swell she hand emboding p\n"
     ]
    }
   ],
   "source": [
    "print('Texte mémoire 0 : \\n \\n' + t0)\n",
    "print('\\nTexte mémoire 1 : \\n \\n' + t1)\n",
    "print('\\nTexte mémoire 2 : \\n \\n' + t2)\n",
    "print('\\nTexte mémoire 3 : \\n \\n' + t3)\n",
    "print('\\nTexte mémoire 4 : \\n \\n' + t4)"
   ]
  },
  {
   "cell_type": "markdown",
   "metadata": {},
   "source": [
    "## Etape 3"
   ]
  },
  {
   "cell_type": "code",
   "execution_count": 17,
   "metadata": {
    "collapsed": true
   },
   "outputs": [],
   "source": [
    "def f1(x, data, frequence2, frequence4):\n",
    "    return np.log(frequence4.loc[data[x:x+4]]/(frequence2.loc[data[x:x+2]]*frequence2.loc[data[x+2:x+4]]))\n",
    "\n",
    "def f2(x, data, frequence2, frequence3):\n",
    "    return np.log((frequence2.loc[data[x:x+2]]*frequence3.loc[data[x+2:x+5]])/(frequence3.loc[data[x:x+3]]*frequence2.loc[data[x+3:x+5]]))\n",
    "\n",
    "def rajout_espaces_1(filename, frequence2 , frequence4):\n",
    "    data = getData(filename, False)\n",
    "    length = len(data)\n",
    "    x = 1\n",
    "    \n",
    "    while(x<len(data)-5):\n",
    "        if(x==1):\n",
    "            a = f1(x-1, data, frequence2, frequence4)\n",
    "            b = f1(x, data, frequence2, frequence4)\n",
    "            c = f1(x+1, data, frequence2, frequence4)\n",
    "            if(b<c and b<a):\n",
    "                data = data[:x+2] + ' ' + data[x+2:]\n",
    "                max_avant = True\n",
    "            else:\n",
    "                max_avant = False\n",
    "            \n",
    "        else:\n",
    "            if(max_avant):\n",
    "                x+=1\n",
    "                a = f1(x-1, data, frequence2, frequence4)\n",
    "                b = f1(x, data, frequence2, frequence4)\n",
    "                c = f1(x+1, data, frequence2, frequence4)\n",
    "                if(b<c and b<a):\n",
    "                    data = data[:x+2] + ' ' + data[x+2:]\n",
    "                    max_avant = True\n",
    "                else:\n",
    "                    max_avant = False\n",
    "                \n",
    "            else:\n",
    "                a = b\n",
    "                b = c\n",
    "                c = f1(x+1, data, frequence2, frequence4)\n",
    "                if(b<c and b<a):\n",
    "                    data = data[:x+2] + ' ' + data[x+2:]\n",
    "                    max_avant = True\n",
    "                else:\n",
    "                    max_avant = False\n",
    "        x+=1\n",
    "    \n",
    "    with open(filename[:-4] + '_rajout_espaces_1.txt','w') as f:\n",
    "        f.write(data)\n",
    "        \n",
    "    return(data)\n",
    "\n",
    "def rajout_espaces_2(filename, frequence2 , frequence3):\n",
    "    data = getData(filename, False)\n",
    "    length = len(data)\n",
    "    x = 1\n",
    "    \n",
    "    while(x<len(data)-6):\n",
    "        if(x==1):\n",
    "            a = f2(x-1, data, frequence2, frequence3)\n",
    "            b = f2(x, data, frequence2, frequence3)\n",
    "            c = f2(x+1, data, frequence2, frequence3)\n",
    "            if(b>c and b>a):\n",
    "                data = data[:x+2] + ' ' + data[x+2:]\n",
    "                max_avant = True\n",
    "            else:\n",
    "                max_avant = False\n",
    "            \n",
    "        else:\n",
    "            if(max_avant):\n",
    "                x+=1\n",
    "                a = f2(x-1, data, frequence2, frequence3)\n",
    "                b = f2(x, data, frequence2, frequence3)\n",
    "                c = f2(x+1, data, frequence2, frequence3)\n",
    "                if(b>c and b>a):\n",
    "                    data = data[:x+2] + ' ' + data[x+2:]\n",
    "                    max_avant = True\n",
    "                else:\n",
    "                    max_avant = False\n",
    "                \n",
    "            else:\n",
    "                a = b\n",
    "                b = c\n",
    "                c = f2(x+1, data, frequence2, frequence3)\n",
    "                if(b>c and b>a):\n",
    "                    data = data[:x+2] + ' ' + data[x+2:]\n",
    "                    max_avant = True\n",
    "                else:\n",
    "                    max_avant = False\n",
    "        x+=1\n",
    "    \n",
    "    with open(filename[:-4] + '_rajout_espaces_2.txt','w') as f:\n",
    "        f.write(data)\n",
    "        \n",
    "    return(data)\n",
    "\n",
    "def rajout_espaces_1_2(filename, frequence2 , frequence3, frequence4):\n",
    "    data = getData(filename, False)\n",
    "    length = len(data)\n",
    "    x = 1\n",
    "    \n",
    "    while(x<len(data)-6):\n",
    "        if(x==1):\n",
    "            a = f1(x-1, data, frequence2, frequence4)\n",
    "            b = f1(x, data, frequence2, frequence4)\n",
    "            c = f1(x+1, data, frequence2, frequence4)\n",
    "            d = f2(x-1, data, frequence2, frequence3)\n",
    "            e = f2(x, data, frequence2, frequence3)\n",
    "            f = f2(x+1, data, frequence2, frequence3)\n",
    "            \n",
    "            if(b<c and b>a and e>d and e>f):\n",
    "                data = data[:x+2] + ' ' + data[x+2:]\n",
    "                max_avant = True\n",
    "            else:\n",
    "                max_avant = False\n",
    "            \n",
    "        else:\n",
    "            if(max_avant):\n",
    "                x+=1\n",
    "                a = f1(x-1, data, frequence2, frequence4)\n",
    "                b = f1(x, data, frequence2, frequence4)\n",
    "                c = f1(x+1, data, frequence2, frequence4)\n",
    "                d = f2(x-1, data, frequence2, frequence3)\n",
    "                e = f2(x, data, frequence2, frequence3)\n",
    "                f = f2(x+1, data, frequence2, frequence3)\n",
    "                if(b<c and b>a and e>d and e>f):\n",
    "                    data = data[:x+2] + ' ' + data[x+2:]\n",
    "                    max_avant = True\n",
    "                else:\n",
    "                    max_avant = False\n",
    "                \n",
    "            else:\n",
    "                a = b\n",
    "                b = c\n",
    "                c = f1(x+1, data, frequence2, frequence4)\n",
    "                d = e\n",
    "                e = f\n",
    "                f = f2(x+1, data, frequence2, frequence3)\n",
    "                if(b<c and b>a and e>d and e>f):\n",
    "                    data = data[:x+2] + ' ' + data[x+2:]\n",
    "                    max_avant = True\n",
    "                else:\n",
    "                    max_avant = False\n",
    "        x+=1\n",
    "    \n",
    "    with open(filename[:-4] + '_rajout_espaces_1_2.txt','w') as f:\n",
    "        f.write(data)\n",
    "        \n",
    "    return(data)"
   ]
  },
  {
   "cell_type": "code",
   "execution_count": 18,
   "metadata": {},
   "outputs": [
    {
     "name": "stdout",
     "output_type": "stream",
     "text": [
      "CPU times: user 4.58 s, sys: 71.9 ms, total: 4.65 s\n",
      "Wall time: 4.69 s\n"
     ]
    }
   ],
   "source": [
    "%%time\n",
    "frequence2 = frequence_N_grams(2, 'textes/melville_moby_dick.txt', True)\n",
    "frequence3 = frequence_N_grams(3, 'textes/melville_moby_dick.txt', True)\n",
    "frequence4 = frequence_N_grams(4, 'textes/melville_moby_dick.txt', True)\n"
   ]
  },
  {
   "cell_type": "code",
   "execution_count": 19,
   "metadata": {},
   "outputs": [
    {
     "name": "stderr",
     "output_type": "stream",
     "text": [
      "/home/vincent/anaconda3/lib/python3.6/site-packages/ipykernel_launcher.py:2: RuntimeWarning: divide by zero encountered in log\n",
      "  \n",
      "/home/vincent/anaconda3/lib/python3.6/site-packages/ipykernel_launcher.py:5: RuntimeWarning: divide by zero encountered in log\n",
      "  \"\"\"\n",
      "/home/vincent/anaconda3/lib/python3.6/site-packages/ipykernel_launcher.py:5: RuntimeWarning: divide by zero encountered in double_scalars\n",
      "  \"\"\"\n",
      "/home/vincent/anaconda3/lib/python3.6/site-packages/ipykernel_launcher.py:5: RuntimeWarning: invalid value encountered in double_scalars\n",
      "  \"\"\"\n",
      "/home/vincent/anaconda3/lib/python3.6/site-packages/ipykernel_launcher.py:2: RuntimeWarning: invalid value encountered in double_scalars\n",
      "  \n"
     ]
    }
   ],
   "source": [
    "p = rajout_espaces_1_2('textes/test.txt', frequence2, frequence3, frequence4)"
   ]
  },
  {
   "cell_type": "code",
   "execution_count": 20,
   "metadata": {},
   "outputs": [
    {
     "name": "stdout",
     "output_type": "stream",
     "text": [
      "witha meta p hysicalprofessoryesase very oneknowsmedita tionandwatera rew edded fore verbut hereisan artisthed esirestopainty outhedreami estshadiestquietestmostenchantingbitof roman ticlands capein allthevalleyofthesacow hat isthechiefele mentheemployst herest andhistreeseach withahollowtrunkasifahermitandacrucifixwerewithinandheresleepshismeadow andtheresleephisca ttleandupfromyondercott agegoesas le epysmokedeepintodist ant woodl andswindsamazywayreach ingtoo verl a ppingspursofmountainsbathed int heirhillsidebluebutth ou gh thepictureliesthustra ncedandthoughthispinetreeshakes downits s ighslikeleavesuponthisshepherdshe adyet allwerevainunl esstheshepherdseyewerefixed uponthemagicstream beforehimgov is ittheprairiesin junew hen fors coresonscoresofmiles youwadekneedeepamongtigerli lieswhat istheonecharmwantingwaterthereis notad ropofwatertherew ereniaga rabutac atar actofsandwouldyoutravelyourth ousandmilestoseeitwhydidthepoorpoetoftennesseeuponsuddenlyreceivingtwohandfulsofsilverde liberatewhethertobuyhimac oatwhichhesadlyneededorinvesthismoneyinapedest ri ant riptorocka waybeachwhyis almoste veryrobusthe althyboywitharobusthe althys oul inhimatsometimeoro therc razytogotoseawhyuponyourfirstvoyageasapassengerdidyouyourselffeelsuchamysticalvi bra tionwhenfirsttold thatyouandyours hipwerenowoutofsightoflandwhydidtheoldpersianshold theseaholywhydidthegreeksgiveitase paratede ityandownbrotherofjovesurelyallthisis notwithout meaningandstill deepertheme aningof thatstoryofnarc issus whobe causehe co uldnotgraspthetormentingmildimagehe sawinthefountainplungedintoit andwasdr own ed butt hats ameimageweourselvesseein allri versandoceansitist heimageoftheungraspa blephantomoflifeandthisisthekeytoit allnowwhenisaythatiaminthehabitofgoingtoseawhen everibegintogrowhazyabouttheeyesandbegintobeoverc onsciousofmylu ngsidonotmeantohaveit inferredthatievergotoseaasapassenger fortogoasapassengeryoumustne edshaveap urseandap urseis butaragunl essy ou haves o methinginitbesidespassengersgetseasick growquarrelsomedontsleepofni ghtsdonoten joythem s el vesmuchasageneralthingno inevergoasapassengern or thoughiams o methingofas altdoievergotoseaasac ommodoreorac aptainoracookiab andon thegloryanddistinc tionofsuchofficesto thosewholikethemformypartiabominate a llhonorableres pectableto il strials andtribula tionsofeverykindwhatsoeveritis quiteas muchasicandototakecareofmys elfwithouttakingcareofshipsbarquesbrigsschoonersandwhatnotandas forgo ingascookth oughic onf essthereisconsider ableg loryint hatacookbe ingas ortofofficerons hipbo ardyets o me howineverfanciedbroilingfowlsth oughoncebroiledjudici ouslybutteredandjudgmatic allys altedandpe pper ed thereis noonewhowills peakmoreres pectfullynottosayrevere ntiallyofabroiledf owlth aniwillitisoutof theidolat rousdot ings oftheoldegyptiansuponbroiledibis and roastedriverhorsethatyouseethemummiesofthosecreaturesint heirhugeba ke housesthepyramids nowhenigotoseaigoasasimplesailorri ghtbeforethema st pl umbdownintotheforec astleal oft thereto ther oyalm asthe adtruetheyratherordermea boutsomeandmakeme jumpfromspartosparlikea grass hopperina maymeadow andat firstthiss ortof thingisun pleasanten oughittouches onessenseofhonorparticularlyifyouc o meofan oldest abl ished familyinthel andthevanrens selaersorrandolphsor h ardicanutes andmorethan allifjustprevious toputt ingyourha ndintothet arpotyouhavebe enl ordingitasacountrys choolmastermakingthet alle stboysstandinaweofyouthetransi tionisakeenoneiass ureyoufromaschoolmastertoasailorandre quiresa strongdecoctionofsenecaandthestoicstoen ableyoutogrinandbearit bute vent hiswearsoffin t ime whatofitifsomeoldhunks ofaseac aptainord ersmeto getab room ands weep downthed e ckswhatdoest hatindign ityamounttowe ighed ime aninthes cales ofthen ewtestame ntdo youth inkthe archangelgabriel thinks anythingthelessofmebe causeiprompt ly andres pectfullyobeythatoldhunks int hatparticularin stancewhoaintas la vetell methatwellthenhowevertheoldseac aptainsmayordermea bouthowevertheymayth umpandpunchmea boutihavethesatisfactionofknow ingthat itisallri ghtthateverybodyelseis onewayoro therservedinmuchthesamewayeitherinap hysicalormeta p hysicalpo intofviewthatisandso theuniversalth umpispassed roundandallha ndsshouldrubeachothersshoulderbladesandbe cont entagainial waysgotoseaasasailorbe causetheymakeapo intofpayingme formytroublewhere ast heyne verpaypassengersas inglepenny thatieverheardofon thecontrarypassengerst hem s el vesmustpayandthereis allthed iffere nceintheworld betweenpayingandbe ingpa id theactofpayingisperhapst hemostuncomfortableinflic tionthatthetwoor chardthi eves ent ailed uponusbut beingpaidwhatwillcomparewithittheurbaneactivitywithwhichamanreceivesmoneyis rea llymarvellousconsideringthatwesoearnestlybelieve moneyto betherootof alle arthlyills andthat onnoaccount canamonied manenterheavenahhowcheerfullyweconsigno urselvestoperdi tionfinallyial waysgotoseaasasailorbe causeofthewholes omeex erciseandpureairof theforec astled eck foras int hisworld headwindsa refarmore prevalentthan windsfromastern thatisify oun everviol atethepy tha goreanma ximsof or themo st partthecommodoreon thequarterdeckgets hisatmosphereatse condhandfromthes ailorson theforec astlehe thinkshebreathesitfirst butnotsoinmuchthesamewaydo thecommon alty leadtheirleadersin manyotherth ingsat thesame t ime thattheleaderslittlesuspectit butwhe reforeit wast hatafterhav ingre peatedlysmelttheseaasamerchantsailorish ouldnowtakeit intomy headtogoonawhalingvoyaget hist hein visiblepoliceofficerof thefateswhohastheconstantsurveillanceofmeands ecret lydogsmeandin flue ncesme ins omeunaccountablewayhe canbetteranswerthan any oneelseanddoubtlessmygo ingonthiswhalingvoyage formed partof thegrandprogra mmeofprovidencethatwasdrawnupalongtimeagoitcameinasas ortofbriefin terludeandsolobetweenmoree xten siveperformancesitakeitt hatt hispartof thebillmusthaveruns o methingliketh isgrandcontestedele ctionforthepres i de ncyoftheunitedst ateswhalingvoyageby oneishmaelbloodybattleina ffghani stanth oughic annottellwhyit wasexact ly thatthosest agemanagersthefatesputmedownforthiss habbypartofawhalingvoyagewheno thers wereset downformagnificentparts inhi ghtraged iesands h ortande asyparts ingenteel comediesandjollyparts infarcesth oughic annottellwhythiswasexactlyyet now thati recalla ll thecircumstancesith inkicanseeal ittleintothesprings andmotiveswhichbe ingcunninglypresent edtomeundervari ousdisguisesinducedmetoset a boutperform ingthepartididbesidesca jolingme intothedelusionthatit wasachoiceresultingfrommyownun bias ed freewillanddiscriminatingjudgmentchief a mo ngthesemotiveswastheoverwhelm ingideaof thegreatwhalehimselfsuchap ort entousandmysteri ousmonsterroused allmycurios itythen thewildanddist antseaswhereherolledhisis l andbulktheundeliver ablenameless perils ofthewhalethesewithalltheat t endingmarvelsofath ousandpatag oniansi ghts andsou nds h elpedtoswaymetomywishwitho thermenperhapssuchth ingswouldnothavebeeninducementsbutas formeiamtorment edwithaneverlastingitch forth ingsre moteilovetos ailforb iddenseasandl andonbarbarousco astsnotignoringwhatis goodiamquickto perceiveahorror andco uldstillbeso cialwithitwouldtheyletmesinceit isbutwelltobeonf rie ndlyterms withallthein mates oftheplaceonelodgesinbyreasonof thesethings then thewhalingvoyagewaswelcomethegreatfloodgates ofthewonderworldswungo penandinthewildconceitst hatswayedmetomypurposetwoandtwothe refloatedintomy inmostsoule ndless\n"
     ]
    }
   ],
   "source": [
    "print(p)"
   ]
  }
 ],
 "metadata": {
  "kernelspec": {
   "display_name": "Python 3",
   "language": "python",
   "name": "python3"
  },
  "language_info": {
   "codemirror_mode": {
    "name": "ipython",
    "version": 3
   },
   "file_extension": ".py",
   "mimetype": "text/x-python",
   "name": "python",
   "nbconvert_exporter": "python",
   "pygments_lexer": "ipython3",
   "version": "3.6.3"
  }
 },
 "nbformat": 4,
 "nbformat_minor": 2
}
